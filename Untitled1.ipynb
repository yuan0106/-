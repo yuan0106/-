{
 "cells": [
  {
   "cell_type": "code",
   "execution_count": 1,
   "metadata": {},
   "outputs": [],
   "source": [
    "from scipy.cluster.vq import *\n",
    "from sklearn.preprocessing import StandardScaler\n",
    "from sklearn.svm import LinearSVC, SVC\n",
    "from sklearn.externals import joblib\n",
    "from sklearn.model_selection import train_test_split, cross_val_score, cross_validate\n",
    "from sklearn.metrics import confusion_matrix\n",
    "from sklearn.tree import DecisionTreeClassifier\n",
    "from sklearn.ensemble import BaggingClassifier\n",
    "from sklearn.decomposition import PCA\n",
    "import matplotlib.pyplot as plt\n",
    "import cv2 as cv\n",
    "import numpy as np\n",
    "import os\n",
    "from imutils import paths\n",
    "#import pickl\n",
    "import os, sys\n",
    "import cv2\n",
    "from sklearn.metrics import accuracy_score\n",
    "from skimage.feature import local_binary_pattern"
   ]
  },
  {
   "cell_type": "code",
   "execution_count": 2,
   "metadata": {},
   "outputs": [
    {
     "name": "stdout",
     "output_type": "stream",
     "text": [
      "63325\n",
      "63325\n"
     ]
    }
   ],
   "source": [
    "fp = open('train.txt',\"r\")\n",
    "image_paths=[]\n",
    "image_classes=[]\n",
    "for line in fp.readlines():\n",
    "    linee = line.strip().split(\" \") \n",
    "    image_paths.append(linee[0])\n",
    "    image_classes.append(linee[1])\n",
    "print(len(image_paths))\n",
    "print(len(image_classes))"
   ]
  },
  {
   "cell_type": "code",
   "execution_count": 3,
   "metadata": {},
   "outputs": [
    {
     "name": "stdout",
     "output_type": "stream",
     "text": [
      "Calculating all the descriptors and keypoints...\n",
      "63325/63325\n",
      "Done!\n"
     ]
    }
   ],
   "source": [
    "imgs = []\n",
    "time=1\n",
    "allt=len(image_paths)\n",
    "print(\"Calculating all the descriptors and keypoints...\")\n",
    "for image_path in image_paths:\n",
    "    img  = cv.imread(image_path)\n",
    "    img = cv.cvtColor(img,cv.COLOR_BGR2GRAY) # Converts from one color space to another (grayscale)\n",
    "    img =cv2.resize(img,(32,32),interpolation=cv2.INTER_CUBIC)\n",
    "    #kp, des = sift.detectAndCompute(img,None)\n",
    "    imgs.append((img))\n",
    "    print(str(time)+\"/\"+str(allt), end=\"\\r\")\n",
    "    time=time+1\n",
    "print(\"\\nDone!\")"
   ]
  },
  {
   "cell_type": "code",
   "execution_count": 4,
   "metadata": {},
   "outputs": [
    {
     "name": "stdout",
     "output_type": "stream",
     "text": [
      "63325/63325\n",
      "Done!\n"
     ]
    }
   ],
   "source": [
    "radius = 1  # LBP算法中範圍半徑的取值\n",
    "n_points = 8 * radius # 領域像素點數\n",
    "des_list = []\n",
    "time=1\n",
    "allt=len(imgs)\n",
    "for im in imgs:\n",
    "    lbp = local_binary_pattern(im, n_points, radius)\n",
    "    max_bins = int(lbp.max() + 1)\n",
    "    des,_ = np.histogram(lbp,bins=max_bins, range=(0, max_bins))\n",
    "    if str(des) != 'None':\n",
    "        des_list.append((des))\n",
    "        print(str(time)+\"/\"+str(allt), end=\"\\r\")\n",
    "        time=time+1\n",
    "    else:\n",
    "        print(image_paths[time-1])\n",
    "        del image_classes[time-1]\n",
    "        del image_paths[time-1]\n",
    "print(\"\\nDone!\")"
   ]
  },
  {
   "cell_type": "code",
   "execution_count": 5,
   "metadata": {},
   "outputs": [
    {
     "name": "stdout",
     "output_type": "stream",
     "text": [
      "450\n",
      "450\n"
     ]
    }
   ],
   "source": [
    "fp = open('test.txt',\"r\")\n",
    "test_image_paths=[]\n",
    "test_image_classes=[]\n",
    "for line in fp.readlines():\n",
    "    linee = line.strip().split(\" \") \n",
    "    test_image_paths.append(linee[0])\n",
    "    test_image_classes.append(linee[1])\n",
    "print(len(test_image_paths))\n",
    "print(len(test_image_classes))"
   ]
  },
  {
   "cell_type": "code",
   "execution_count": 10,
   "metadata": {},
   "outputs": [
    {
     "name": "stdout",
     "output_type": "stream",
     "text": [
      "Calculating all the descriptors and keypoints...\n",
      "450/450\n",
      "Done!\n"
     ]
    }
   ],
   "source": [
    "testimgs = []\n",
    "time=1\n",
    "allt=len(test_image_paths)\n",
    "print(\"Calculating all the descriptors and keypoints...\")\n",
    "for test_image_path in test_image_paths:\n",
    "    img1  = cv.imread(test_image_path)\n",
    "    img1 = cv.cvtColor(img1,cv.COLOR_BGR2GRAY) # Converts from one color space to another (grayscale)\n",
    "    img1 =cv2.resize(img1,(32,32),interpolation=cv2.INTER_CUBIC)\n",
    "    #kp, des = sift.detectAndCompute(img,None)\n",
    "    imgs.append((img1))\n",
    "    print(str(time)+\"/\"+str(allt), end=\"\\r\")\n",
    "    time=time+1\n",
    "print(\"\\nDone!\")"
   ]
  },
  {
   "cell_type": "code",
   "execution_count": 22,
   "metadata": {},
   "outputs": [
    {
     "name": "stdout",
     "output_type": "stream",
     "text": [
      "\n",
      "Done!\n"
     ]
    }
   ],
   "source": [
    "radius = 1  # LBP算法中範圍半徑的取值\n",
    "n_points = 8 * radius # 領域像素點數\n",
    "des_list1 = []\n",
    "time=1\n",
    "allt=len(testimgs)\n",
    "for testim in testimgs:\n",
    "    lbp = local_binary_pattern(testim, n_points, radius)\n",
    "    max_bins = int(lbp.max() + 1)\n",
    "    des1,_ = np.histogram(lbp,bins=max_bins, range=(0, max_bins))\n",
    "    if str(des1) != 'None':\n",
    "        des_list1.append((des1))\n",
    "        print(str(time)+\"/\"+str(allt), end=\"\\r\")\n",
    "        time=time+1\n",
    "    else:\n",
    "        print(test_image_paths[time-1])\n",
    "        del test_image_classes[time-1]\n",
    "        del test_image_paths[time-1]\n",
    "print(\"\\nDone!\")"
   ]
  },
  {
   "cell_type": "code",
   "execution_count": 9,
   "metadata": {},
   "outputs": [
    {
     "name": "stdout",
     "output_type": "stream",
     "text": [
      "450\n",
      "450\n"
     ]
    }
   ],
   "source": [
    "fp = open('val.txt',\"r\")\n",
    "val_image_paths=[]\n",
    "val_image_classes=[]\n",
    "for line in fp.readlines():\n",
    "    linee = line.strip().split(\" \") \n",
    "    val_image_paths.append(linee[0])\n",
    "    val_image_classes.append(linee[1])\n",
    "print(len(val_image_paths))\n",
    "print(len(val_image_classes))"
   ]
  },
  {
   "cell_type": "code",
   "execution_count": 12,
   "metadata": {},
   "outputs": [
    {
     "name": "stdout",
     "output_type": "stream",
     "text": [
      "Calculating all the descriptors and keypoints...\n",
      "450/450\n",
      "Done!\n"
     ]
    }
   ],
   "source": [
    "valimgs = []\n",
    "time=1\n",
    "allt=len(val_image_paths)\n",
    "print(\"Calculating all the descriptors and keypoints...\")\n",
    "for val_image_path in val_image_paths:\n",
    "    img2  = cv.imread(val_image_path)\n",
    "    img2 = cv.cvtColor(img2,cv.COLOR_BGR2GRAY) # Converts from one color space to another (grayscale)\n",
    "    img2 =cv2.resize(img2,(32,32),interpolation=cv2.INTER_CUBIC)\n",
    "    #kp, des = sift.detectAndCompute(img,None)\n",
    "    imgs.append((img2))\n",
    "    print(str(time)+\"/\"+str(allt), end=\"\\r\")\n",
    "    time=time+1\n",
    "print(\"\\nDone!\")"
   ]
  },
  {
   "cell_type": "code",
   "execution_count": 14,
   "metadata": {},
   "outputs": [
    {
     "name": "stdout",
     "output_type": "stream",
     "text": [
      "\n",
      "Done!\n"
     ]
    }
   ],
   "source": [
    "radius = 1  # LBP算法中範圍半徑的取值\n",
    "n_points = 8 * radius # 領域像素點數\n",
    "des_list2 = []\n",
    "time=1\n",
    "allt=len(valimgs)\n",
    "for valim in valimgs:\n",
    "    lbp = local_binary_pattern(valim, n_points, radius)\n",
    "    max_bins = int(lbp.max() + 1)\n",
    "    des2,_ = np.histogram(lbp,bins=max_bins, range=(0, max_bins))\n",
    "    if str(des2) != 'None':\n",
    "        des_list1.append((des2))\n",
    "        print(str(time)+\"/\"+str(allt), end=\"\\r\")\n",
    "        time=time+1\n",
    "    else:\n",
    "        print(val_image_paths[time-1])\n",
    "        del val_image_classes[time-1]\n",
    "        del val_image_paths[time-1]\n",
    "print(\"\\nDone!\")"
   ]
  },
  {
   "cell_type": "code",
   "execution_count": 26,
   "metadata": {},
   "outputs": [
    {
     "ename": "NameError",
     "evalue": "name 'des2' is not defined",
     "output_type": "error",
     "traceback": [
      "\u001b[1;31m---------------------------------------------------------------------------\u001b[0m",
      "\u001b[1;31mNameError\u001b[0m                                 Traceback (most recent call last)",
      "\u001b[1;32m<ipython-input-26-a51aa3dc07cf>\u001b[0m in \u001b[0;36m<module>\u001b[1;34m()\u001b[0m\n\u001b[1;32m----> 1\u001b[1;33m \u001b[0mdes2\u001b[0m\u001b[1;33m\u001b[0m\u001b[0m\n\u001b[0m",
      "\u001b[1;31mNameError\u001b[0m: name 'des2' is not defined"
     ]
    }
   ],
   "source": []
  },
  {
   "cell_type": "code",
   "execution_count": null,
   "metadata": {},
   "outputs": [],
   "source": []
  },
  {
   "cell_type": "code",
   "execution_count": null,
   "metadata": {},
   "outputs": [],
   "source": []
  }
 ],
 "metadata": {
  "kernelspec": {
   "display_name": "Python 3",
   "language": "python",
   "name": "python3"
  },
  "language_info": {
   "codemirror_mode": {
    "name": "ipython",
    "version": 3
   },
   "file_extension": ".py",
   "mimetype": "text/x-python",
   "name": "python",
   "nbconvert_exporter": "python",
   "pygments_lexer": "ipython3",
   "version": "3.5.6"
  }
 },
 "nbformat": 4,
 "nbformat_minor": 2
}
